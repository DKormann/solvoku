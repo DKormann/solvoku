{
 "cells": [
  {
   "cell_type": "code",
   "execution_count": 57,
   "metadata": {},
   "outputs": [],
   "source": [
    "run main\n"
   ]
  },
  {
   "cell_type": "code",
   "execution_count": 58,
   "metadata": {},
   "outputs": [],
   "source": [
    "set_field([\n",
    "    0,0,9, 6,0,0, 1,0,0,\n",
    "    0,1,0, 7,0,0, 0,8,0,\n",
    "    3,5,0, 0,1,0, 0,0,0,\n",
    "    \n",
    "    5,0,0, 0,0,0, 6,0,0,\n",
    "    0,0,0, 0,4,2, 0,0,1,\n",
    "    0,0,3, 0,0,0, 0,7,0,\n",
    "\n",
    "    0,0,5, 0,0,6, 0,1,0,\n",
    "    0,0,6, 8,0,0, 3,0,4,\n",
    "    0,8,1, 4,7,0, 2,0,0,\n",
    "])"
   ]
  },
  {
   "cell_type": "code",
   "execution_count": 59,
   "metadata": {},
   "outputs": [
    {
     "name": "stdout",
     "output_type": "stream",
     "text": [
      "+-------+-------+-------+\n",
      "|     9 | 6     | 1     | \n",
      "|   1   | 7     |   8   | \n",
      "| 3 5   |   1   |       | \n",
      "+-------+-------+-------+\n",
      "| 5     |       | 6     | \n",
      "|       |   4 2 |     1 | \n",
      "|     3 |       |   7   | \n",
      "+-------+-------+-------+\n",
      "|     5 |     6 |   1   | \n",
      "|     6 | 8     | 3   4 | \n",
      "| 9 8 1 | 4 7   | 2     | \n",
      "+-------+-------+-------+\n",
      "+-------+-------+-------+\n",
      "| 4 3 1 | 1 4 4 | 1 4 4 | \n",
      "| 3 1 2 | 1 4 4 | 3 1 5 | \n",
      "| 1 1 4 | 2 1 3 | 3 4 4 | \n",
      "+-------+-------+-------+\n",
      "| 1 4 4 | 3 3 5 | 1 4 4 | \n",
      "| 3 3 2 | 3 1 1 | 3 3 1 | \n",
      "| 5 4 1 | 3 4 4 | 4 1 4 | \n",
      "+-------+-------+-------+\n",
      "| 3 4 1 | 3 3 1 | 3 1 3 | \n",
      "| 2 2 1 | 1 3 3 | 1 2 1 | \n",
      "| 1 1 1 | 1 1 2 | 1 2 2 | \n",
      "+-------+-------+-------+\n"
     ]
    }
   ],
   "source": [
    "print_field()\n",
    "print_field(options.sum(1))"
   ]
  },
  {
   "cell_type": "code",
   "execution_count": 45,
   "metadata": {},
   "outputs": [],
   "source": [
    "import time"
   ]
  },
  {
   "cell_type": "code",
   "execution_count": 54,
   "metadata": {},
   "outputs": [
    {
     "data": {
      "text/plain": [
       "1661648107.8412008"
      ]
     },
     "execution_count": 54,
     "metadata": {},
     "output_type": "execute_result"
    }
   ],
   "source": [
    "time.time()"
   ]
  },
  {
   "cell_type": "code",
   "execution_count": 60,
   "metadata": {},
   "outputs": [
    {
     "name": "stdout",
     "output_type": "stream",
     "text": [
      "+-------+-------+-------+\n",
      "| 7 4 9 | 6 8 5 | 1 2 3 | \n",
      "| 6 1 2 | 7 3 4 | 5 8 9 | \n",
      "| 3 5 8 | 2 1 9 | 7 4 6 | \n",
      "+-------+-------+-------+\n",
      "| 5 2 4 | 1 9 7 | 6 3 8 | \n",
      "| 8 6 7 | 3 4 2 | 9 5 1 | \n",
      "| 1 9 3 | 5 6 8 | 4 7 2 | \n",
      "+-------+-------+-------+\n",
      "| 4 3 5 | 9 2 6 | 8 1 7 | \n",
      "| 2 7 6 | 8 5 1 | 3 9 4 | \n",
      "| 9 8 1 | 4 7 3 | 2 6 5 | \n",
      "+-------+-------+-------+\n"
     ]
    },
    {
     "data": {
      "text/plain": [
       "0.0014081001281738281"
      ]
     },
     "execution_count": 60,
     "metadata": {},
     "output_type": "execute_result"
    }
   ],
   "source": [
    "start = time.time()\n",
    "solve()\n",
    "time.time()-start\n"
   ]
  }
 ],
 "metadata": {
  "kernelspec": {
   "display_name": "Python 3.9.13 ('base')",
   "language": "python",
   "name": "python3"
  },
  "language_info": {
   "codemirror_mode": {
    "name": "ipython",
    "version": 3
   },
   "file_extension": ".py",
   "mimetype": "text/x-python",
   "name": "python",
   "nbconvert_exporter": "python",
   "pygments_lexer": "ipython3",
   "version": "3.9.13"
  },
  "orig_nbformat": 4,
  "vscode": {
   "interpreter": {
    "hash": "c6e4e9f98eb68ad3b7c296f83d20e6de614cb42e90992a65aa266555a3137d0d"
   }
  }
 },
 "nbformat": 4,
 "nbformat_minor": 2
}
