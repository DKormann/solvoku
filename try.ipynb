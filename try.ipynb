{
 "cells": [
  {
   "cell_type": "code",
   "execution_count": 1,
   "metadata": {},
   "outputs": [],
   "source": [
    "%load_ext autoreload\n",
    "%autoreload 2"
   ]
  },
  {
   "cell_type": "code",
   "execution_count": 2,
   "metadata": {},
   "outputs": [],
   "source": [
    "from main import solve\n",
    "import numpy as np"
   ]
  },
  {
   "cell_type": "code",
   "execution_count": 3,
   "metadata": {},
   "outputs": [],
   "source": [
    "hard_sudoku = [\n",
    "    0,0,9, 6,0,0, 1,0,0,\n",
    "    3,5,0, 0,1,0, 0,0,0,\n",
    "    5,0,0, 0,0,0, 6,0,0,\n",
    "    \n",
    "    0,0,0, 0,4,2, 0,0,1,\n",
    "    0,1,0, 7,0,0, 0,8,0,\n",
    "    0,0,3, 0,0,0, 0,7,0,\n",
    "\n",
    "    0,0,5, 0,0,6, 0,1,0,\n",
    "    0,0,6, 8,0,0, 3,0,4,\n",
    "    0,8,1, 4,7,0, 2,0,0,\n",
    "]"
   ]
  },
  {
   "cell_type": "code",
   "execution_count": 4,
   "metadata": {},
   "outputs": [
    {
     "name": "stdout",
     "output_type": "stream",
     "text": [
      "+-------+-------+-------+\n",
      "| 8 4 9 | 6 5 7 | 1 2 3 | \n",
      "| 3 5 7 | 2 1 8 | 9 4 8 | \n",
      "| 5 2 4 | 9 3 9 | 6 3 7 | \n",
      "+-------+-------+-------+\n",
      "| 7 9 8 | 3 4 2 | 5 9 1 | \n",
      "| 6 1 2 | 7 9 3 | 4 8 6 | \n",
      "| 4 6 3 | 9 8 1 | 5 7 2 | \n",
      "+-------+-------+-------+\n",
      "| 4 4 5 | 3 2 6 | 7 1 9 | \n",
      "| 2 7 6 | 8 9 1 | 3 5 4 | \n",
      "| 9 8 1 | 4 7 5 | 2 6 6 | \n",
      "+-------+-------+-------+\n"
     ]
    }
   ],
   "source": [
    "solve(hard_sudoku)"
   ]
  }
 ],
 "metadata": {
  "kernelspec": {
   "display_name": "Python 3.9.13 ('base')",
   "language": "python",
   "name": "python3"
  },
  "language_info": {
   "codemirror_mode": {
    "name": "ipython",
    "version": 3
   },
   "file_extension": ".py",
   "mimetype": "text/x-python",
   "name": "python",
   "nbconvert_exporter": "python",
   "pygments_lexer": "ipython3",
   "version": "3.9.13"
  },
  "orig_nbformat": 4,
  "vscode": {
   "interpreter": {
    "hash": "c6e4e9f98eb68ad3b7c296f83d20e6de614cb42e90992a65aa266555a3137d0d"
   }
  }
 },
 "nbformat": 4,
 "nbformat_minor": 2
}
